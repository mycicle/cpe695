{
 "cells": [
  {
   "cell_type": "markdown",
   "id": "composed-helen",
   "metadata": {},
   "source": [
    "Find coefficients for a linear regression model\n",
    "y = w_0 + w_1 * x\n",
    "\n",
    "Need to: \n",
    "- Plot the data (x = first col, y = second col)\n",
    "- Use python to find the coefficients using:\n",
    "- The normal equation\n",
    "- Batch and stochastic gradient descent\n",
    "- determine an appropriate termination condition ( when the cost function is less than a threshold / after a given number of iterations)\n",
    "- print the cost function vs iterations for each mode; compare and discuss batch and stochastic models in terms of the accuracy and speed of convergence\n",
    "- choose the best learning rate, for example, plot cost function vs learning rate to determine the best learning rate"
   ]
  },
  {
   "cell_type": "code",
   "execution_count": 49,
   "id": "popular-cheat",
   "metadata": {},
   "outputs": [],
   "source": [
    "import numpy as np\n",
    "import matplotlib.pyplot as pt"
   ]
  },
  {
   "cell_type": "code",
   "execution_count": 18,
   "id": "taken-threat",
   "metadata": {},
   "outputs": [
    {
     "name": "stdout",
     "output_type": "stream",
     "text": [
      "The shape of x is: (97, 1)\n",
      "The shape of y is: (97, 1)\n",
      "The first few values in x:\n",
      "[[6.1101]\n",
      " [5.5277]\n",
      " [8.5186]\n",
      " [7.0032]\n",
      " [5.8598]]\n",
      "The first few values in y:\n",
      "[[17.592 ]\n",
      " [ 9.1302]\n",
      " [13.662 ]\n",
      " [11.854 ]\n",
      " [ 6.8233]]\n"
     ]
    }
   ],
   "source": [
    "x, y = np.loadtxt(\"data2.txt\", delimiter=',', unpack=True)\n",
    "x = x.reshape(x.shape[0], 1)\n",
    "y = y.reshape(y.shape[0], 1)\n",
    "print(f\"The shape of x is: {x.shape}\")\n",
    "print(f\"The shape of y is: {y.shape}\")\n",
    "print(\"The first few values in x:\")\n",
    "print(x[:5])\n",
    "print(\"The first few values in y:\")\n",
    "print(y[:5])"
   ]
  },
  {
   "cell_type": "code",
   "execution_count": 19,
   "id": "determined-chemistry",
   "metadata": {},
   "outputs": [
    {
     "data": {
      "image/png": "[encoded data removed]",
      "text/plain": [
       "<Figure size 432x288 with 1 Axes>"
      ]
     },
     "metadata": {
      "needs_background": "light"
     },
     "output_type": "display_data"
    }
   ],
   "source": [
    "pt.plot(x, y, 'ob')\n",
    "pt.title(\"X vs Y\")\n",
    "pt.xlabel(\"X\")\n",
    "pt.ylabel(\"Y\")\n",
    "pt.show()"
   ]
  },
  {
   "cell_type": "markdown",
   "id": "congressional-summit",
   "metadata": {},
   "source": [
    "## Closed Form Solution\n",
    "\n",
    "The closed form solution for an unpenalized linear regression with least squares loss function:\n",
    "\n",
    "$$(X_iW - Y_i)^2$$\n",
    "\n",
    "where each $$X_i \\epsilon R^{1x2} = [x_i;1]$$\n",
    "and each $$W \\epsilon R^{2x1} = [w;b]^T$$\n",
    "\n",
    "and objective function:\n",
    "\n",
    "$$min_W\\sum_i(X_iW - Y_i)^2$$\n",
    "\n",
    "is: \n",
    "\n",
    "$$W = (X^TX)^{-1}X^TY$$\n",
    "\n",
    "Where X is an n-by-2 vector, Y is an n-by-1 vector, and W is a 2-by-1 vector"
   ]
  },
  {
   "cell_type": "code",
   "execution_count": 25,
   "id": "norman-signature",
   "metadata": {},
   "outputs": [
    {
     "name": "stdout",
     "output_type": "stream",
     "text": [
      "x_train shape: (97, 2)\n"
     ]
    }
   ],
   "source": [
    "x_train = np.hstack((x, np.ones(x.shape)))\n",
    "print(f\"x_train shape: {x_train.shape}\")"
   ]
  },
  {
   "cell_type": "code",
   "execution_count": 32,
   "id": "premier-sense",
   "metadata": {},
   "outputs": [
    {
     "name": "stdout",
     "output_type": "stream",
     "text": [
      "(2, 2)\n",
      "(2, 1)\n",
      "The shape of W: (2, 1)\n",
      "W: \n",
      "[[ 1.19303364]\n",
      " [-3.89578088]]\n"
     ]
    }
   ],
   "source": [
    "xtx = np.dot(x_train.T, x_train)\n",
    "print(xtx.shape)\n",
    "xtx_inv = np.linalg.inv(xtx)\n",
    "xty = np.dot(x_train.T, y)\n",
    "print(xty.shape)\n",
    "W = np.dot(xtx_inv, xty)\n",
    "print(f\"The shape of W: {W.shape}\")\n",
    "print(f\"W: \\n{W}\")"
   ]
  },
  {
   "cell_type": "code",
   "execution_count": 39,
   "id": "dangerous-commission",
   "metadata": {},
   "outputs": [
    {
     "name": "stderr",
     "output_type": "stream",
     "text": [
      "<ipython-input-39-47990874d5d1>:12: MatplotlibDeprecationWarning: Case-insensitive properties were deprecated in 3.3 and support will be removed two minor releases later\n",
      "  line0, = pt.plot(x, y, 'ob', LineWidth=2)\n",
      "<ipython-input-39-47990874d5d1>:13: MatplotlibDeprecationWarning: Case-insensitive properties were deprecated in 3.3 and support will be removed two minor releases later\n",
      "  line1, = pt.plot(x_reg, y_reg, 'g', LineWidth=4)\n",
      "<ipython-input-39-47990874d5d1>:14: MatplotlibDeprecationWarning: Case-insensitive properties were deprecated in 3.3 and support will be removed two minor releases later\n",
      "  pt.xlabel(\"X\", FontSize=16)\n",
      "<ipython-input-39-47990874d5d1>:15: MatplotlibDeprecationWarning: Case-insensitive properties were deprecated in 3.3 and support will be removed two minor releases later\n",
      "  pt.ylabel(\"Y\", FontSize=16)\n",
      "<ipython-input-39-47990874d5d1>:16: MatplotlibDeprecationWarning: Case-insensitive properties were deprecated in 3.3 and support will be removed two minor releases later\n",
      "  pt.xticks(FontSize=16)\n",
      "<ipython-input-39-47990874d5d1>:17: MatplotlibDeprecationWarning: Case-insensitive properties were deprecated in 3.3 and support will be removed two minor releases later\n",
      "  pt.yticks(FontSize=16)\n"
     ]
    },
    {
     "data": {
      "image/png": "[encoded data removed]",
      "text/plain": [
       "<Figure size 432x288 with 1 Axes>"
      ]
     },
     "metadata": {
      "needs_background": "light"
     },
     "output_type": "display_data"
    }
   ],
   "source": [
    "w1 = W[0]\n",
    "w0 = W[1]\n",
    "\n",
    "def get_regression_line(w0, w1, lower, upper):\n",
    "    x = np.linspace(lower, upper, 100)\n",
    "    return x, w1*x + w0\n",
    "\n",
    "x_reg, y_reg = get_regression_line(w0, w1, min(x), max(x))\n",
    "\n",
    "fig  = pt.figure(figsize=(6, 4))\n",
    "\n",
    "line0, = pt.plot(x, y, 'ob', LineWidth=2)\n",
    "line1, = pt.plot(x_reg, y_reg, 'g', LineWidth=4)\n",
    "pt.xlabel(\"X\", FontSize=16)\n",
    "pt.ylabel(\"Y\", FontSize=16)\n",
    "pt.xticks(FontSize=16)\n",
    "pt.yticks(FontSize=16)\n",
    "pt.legend([line0, line1], [\"Data\", \"Best Fit\"], fontsize=20)\n",
    "pt.tight_layout()\n",
    "pt.show()"
   ]
  },
  {
   "cell_type": "markdown",
   "id": "greater-network",
   "metadata": {},
   "source": [
    "## Gradient Descent"
   ]
  },
  {
   "cell_type": "markdown",
   "id": "civic-christmas",
   "metadata": {},
   "source": [
    "I have decided to add L2 regaularization to make convergence more stable\n",
    "\n",
    "The objectve function with l2 regularization is defined as:\n",
    "$$Q(W) = min_W||XW-Y||_2^2 + \\frac{\\lambda}{2}||W||_2^2$$\n",
    "\n",
    "With variables:\n",
    "$$W \\epsilon R^{2} = [w;b]^T$$\n",
    "$$X \\epsilon R^{nx2} = [x;1]^T$$\n",
    "$$Y \\epsilon R^{nx1} = [y]^T$$\n",
    "\n",
    "The gradient of the objectve function w.r.t W is:\n",
    "$$\\frac{\\partial Q(W)}{\\partial W} = X^TXW - Y^TX + \\lambda W$$"
   ]
  },
  {
   "cell_type": "code",
   "execution_count": 351,
   "id": "distant-squad",
   "metadata": {},
   "outputs": [],
   "source": [
    "def mb_stochastic_objective_gradient(w, xi, yi, lam, b):\n",
    "    \"\"\"\n",
    "     Calculate the objective Q_I and the gradient of Q_I\n",
    "     Inputs:\n",
    "         w: d-by-1 matrix\n",
    "         xi: b-by-d matrix\n",
    "         yi: b-by-1 matrix\n",
    "         lam: scalar, the regularization parameter\n",
    "         b: integer, the batch size\n",
    "     Return:\n",
    "         obj: scalar, the objective Q_i\n",
    "         g: d-by-1 matrix, gradient of Q_i\n",
    "         \n",
    "    I have decided to add l2 regularization to make the algorithm more stable\n",
    "    \"\"\"\n",
    "    # calculate the objective\n",
    "#     print(\"xi\")\n",
    "#     print(xi)\n",
    "#     print(\"w\")\n",
    "#     print(w)\n",
    "    xw = np.dot(xi, w) # b-by-1 matrix\n",
    "#     print(\"xw\")\n",
    "#     print(xw)\n",
    "#     print(\"yi\")\n",
    "#     print(yi)\n",
    "    xwy = xw - yi # b-by-1 matrix\n",
    "#     print(\"xwy\")\n",
    "#     print(xwy)\n",
    "    reg = (lam/2)*np.sum(w*w)\n",
    "#     print(\"reg\")\n",
    "#     print(reg)\n",
    "    obj = float(np.sum(xwy*xwy)) + reg# scalar\n",
    "    \n",
    "    # calculate the gradient\n",
    "    xtxw = np.dot(xi.T, xw) # d-by-1 matrix\n",
    "\n",
    "    g = xtxw - np.dot(yi.T, xi).T  + lam*w # d-by-1 matrix\n",
    "    \n",
    "    return obj, g"
   ]
  },
  {
   "cell_type": "code",
   "execution_count": 391,
   "id": "authorized-ability",
   "metadata": {},
   "outputs": [],
   "source": [
    "def mb_sgd(x, y, b, stepsize, lam, max_epoch=100, w=None, limit_output=False):\n",
    "    \"\"\"\n",
    "     Mini-Batch SGD for solving logistic regression\n",
    "     Inputs:\n",
    "         x: n-by-d matrix\n",
    "         y: n-by-1 matrix\n",
    "         lam: scalar, the regularization parameter\n",
    "         b: integer, the batch size\n",
    "         stepsize: scalar\n",
    "         max_epoch: integer, the maximal epochs\n",
    "         w: d-by-1 matrix, initialization of w\n",
    "     Return:\n",
    "         w: the solution\n",
    "         objvals: record of each iteration's objective value\n",
    "    \"\"\"\n",
    "    n, d = x.shape\n",
    "    objvals = np.zeros((max_epoch))\n",
    "    \n",
    "    if n % b != 0:\n",
    "        print(x.shape)\n",
    "        remainder = n%b\n",
    "        print(remainder)\n",
    "        x = x[:-remainder, ...]\n",
    "        n, d = x.shape\n",
    "        print(x.shape)\n",
    "#         raise ValueError(f\"Dataset must be evenly divisible into batches. Invalid batch length\\nData length: {n}\")\n",
    "        \n",
    "    if w is None:\n",
    "        w = np.zeros((d, 1)) # zero initialization\n",
    "        \n",
    "    num_batches: int = n // b\n",
    "    for e in range(max_epoch):\n",
    "        rand_indices: np.ndarray = np.random.permutation(n)\n",
    "        x_rand: np.ndarray = x[rand_indices, ...]\n",
    "        y_rand: np.ndarray = y[rand_indices, ...]\n",
    "        \n",
    "        x_batch: np.ndarray = np.split(x_rand, num_batches)\n",
    "        y_batch: np.ndarray = np.split(y_rand, num_batches)\n",
    "        objval = 0 # accumulate objective values\n",
    "        for i in range(num_batches): \n",
    "            obj, g = mb_stochastic_objective_gradient(w, x_batch[i], y_batch[i], lam, b)\n",
    "            objval += obj\n",
    "            w -= stepsize*g\n",
    "        \n",
    "        stepsize *= 0.9 # decrease step size\n",
    "        objval /= num_batches\n",
    "        objvals[e] = objval\n",
    "        if not limit_output:\n",
    "            print(f'Objective value at epoch e={e} is {str(np.round(objval, 5))}')\n",
    "    print(f'Objective value at epoch e={max_epoch} is {str(np.round(objvals[-1], 5))}')\n",
    "         \n",
    "        \n",
    "    \n",
    "    return w, objvals"
   ]
  },
  {
   "cell_type": "code",
   "execution_count": 392,
   "id": "bottom-cream",
   "metadata": {},
   "outputs": [
    {
     "name": "stdout",
     "output_type": "stream",
     "text": [
      "Objective value at epoch e=0 is 167.90451\n",
      "Objective value at epoch e=1 is 112.85098\n",
      "Objective value at epoch e=2 is 199.93535\n",
      "Objective value at epoch e=3 is 119.91113\n",
      "Objective value at epoch e=4 is 262.61166\n",
      "Objective value at epoch e=5 is 66.42306\n",
      "Objective value at epoch e=6 is 105.63703\n",
      "Objective value at epoch e=7 is 33.40495\n",
      "Objective value at epoch e=8 is 22.97405\n",
      "Objective value at epoch e=9 is 25.77838\n",
      "Objective value at epoch e=10 is 19.20268\n",
      "Objective value at epoch e=11 is 16.34478\n",
      "Objective value at epoch e=12 is 17.0203\n",
      "Objective value at epoch e=13 is 15.92832\n",
      "Objective value at epoch e=14 is 12.0275\n",
      "Objective value at epoch e=15 is 10.77377\n",
      "Objective value at epoch e=16 is 11.82385\n",
      "Objective value at epoch e=17 is 10.9596\n",
      "Objective value at epoch e=18 is 9.90462\n",
      "Objective value at epoch e=19 is 10.81517\n",
      "Objective value at epoch e=20 is 10.98682\n",
      "Objective value at epoch e=21 is 10.28799\n",
      "Objective value at epoch e=22 is 9.26794\n",
      "Objective value at epoch e=23 is 9.71292\n",
      "Objective value at epoch e=24 is 10.06555\n",
      "Objective value at epoch e=25 is 9.59467\n",
      "Objective value at epoch e=26 is 9.32413\n",
      "Objective value at epoch e=27 is 9.32966\n",
      "Objective value at epoch e=28 is 9.63269\n",
      "Objective value at epoch e=29 is 9.49055\n",
      "Objective value at epoch e=30 is 9.48016\n",
      "Objective value at epoch e=31 is 9.51098\n",
      "Objective value at epoch e=32 is 9.44595\n",
      "Objective value at epoch e=33 is 9.04477\n",
      "Objective value at epoch e=34 is 9.39254\n",
      "Objective value at epoch e=35 is 9.26968\n",
      "Objective value at epoch e=36 is 9.2352\n",
      "Objective value at epoch e=37 is 9.22192\n",
      "Objective value at epoch e=38 is 9.14475\n",
      "Objective value at epoch e=39 is 9.15058\n",
      "Objective value at epoch e=40 is 9.1092\n",
      "Objective value at epoch e=41 is 9.16315\n",
      "Objective value at epoch e=42 is 9.1162\n",
      "Objective value at epoch e=43 is 9.07792\n",
      "Objective value at epoch e=44 is 9.05129\n",
      "Objective value at epoch e=45 is 9.05051\n",
      "Objective value at epoch e=46 is 9.07956\n",
      "Objective value at epoch e=47 is 9.04971\n",
      "Objective value at epoch e=48 is 9.0629\n",
      "Objective value at epoch e=49 is 9.0516\n",
      "Objective value at epoch e=50 is 9.04418\n",
      "Objective value at epoch e=51 is 9.03607\n",
      "Objective value at epoch e=52 is 9.02878\n",
      "Objective value at epoch e=53 is 9.01681\n",
      "Objective value at epoch e=54 is 9.01758\n",
      "Objective value at epoch e=55 is 9.01472\n",
      "Objective value at epoch e=56 is 9.01098\n",
      "Objective value at epoch e=57 is 9.00609\n",
      "Objective value at epoch e=58 is 9.00137\n",
      "Objective value at epoch e=59 is 8.9973\n",
      "Objective value at epoch e=60 is 8.99465\n",
      "Objective value at epoch e=61 is 8.99406\n",
      "Objective value at epoch e=62 is 8.99147\n",
      "Objective value at epoch e=63 is 8.99003\n",
      "Objective value at epoch e=64 is 8.98815\n",
      "Objective value at epoch e=65 is 8.98593\n",
      "Objective value at epoch e=66 is 8.98487\n",
      "Objective value at epoch e=67 is 8.98338\n",
      "Objective value at epoch e=68 is 8.98269\n",
      "Objective value at epoch e=69 is 8.9815\n",
      "Objective value at epoch e=70 is 8.98057\n",
      "Objective value at epoch e=71 is 8.97966\n",
      "Objective value at epoch e=72 is 8.97843\n",
      "Objective value at epoch e=73 is 8.97805\n",
      "Objective value at epoch e=74 is 8.9774\n",
      "Objective value at epoch e=75 is 8.97683\n",
      "Objective value at epoch e=76 is 8.97635\n",
      "Objective value at epoch e=77 is 8.97587\n",
      "Objective value at epoch e=78 is 8.97543\n",
      "Objective value at epoch e=79 is 8.97506\n",
      "Objective value at epoch e=80 is 8.97471\n",
      "Objective value at epoch e=81 is 8.97439\n",
      "Objective value at epoch e=82 is 8.97411\n",
      "Objective value at epoch e=83 is 8.97386\n",
      "Objective value at epoch e=84 is 8.97361\n",
      "Objective value at epoch e=85 is 8.97343\n",
      "Objective value at epoch e=86 is 8.97324\n",
      "Objective value at epoch e=87 is 8.97307\n",
      "Objective value at epoch e=88 is 8.97291\n",
      "Objective value at epoch e=89 is 8.97279\n",
      "Objective value at epoch e=90 is 8.97267\n",
      "Objective value at epoch e=91 is 8.97256\n",
      "Objective value at epoch e=92 is 8.97246\n",
      "Objective value at epoch e=93 is 8.97237\n",
      "Objective value at epoch e=94 is 8.97229\n",
      "Objective value at epoch e=95 is 8.97222\n",
      "Objective value at epoch e=96 is 8.97216\n",
      "Objective value at epoch e=97 is 8.9721\n",
      "Objective value at epoch e=98 is 8.97205\n",
      "Objective value at epoch e=99 is 8.972\n",
      "Objective value at epoch e=100 is 8.972\n",
      "[[ 1.16151112]\n",
      " [-3.58467237]]\n"
     ]
    }
   ],
   "source": [
    "#### MB-SGD with batch size b=1\n",
    "#### Equivalent to stochastic gradient descent\n",
    "lam = 1E-6\n",
    "b = 1\n",
    "stepsize = 0.022 # you must tune this parameter\n",
    "w, objvals_sgd = mb_sgd(x_train, y, b, stepsize, lam, max_epoch=100)\n",
    "print(w)"
   ]
  },
  {
   "cell_type": "markdown",
   "id": "municipal-brother",
   "metadata": {},
   "source": [
    "## Iterations v Objective Function"
   ]
  },
  {
   "cell_type": "code",
   "execution_count": 393,
   "id": "angry-navigation",
   "metadata": {},
   "outputs": [
    {
     "name": "stderr",
     "output_type": "stream",
     "text": [
      "<ipython-input-393-e0be8d3a6f54>:4: MatplotlibDeprecationWarning: Case-insensitive properties were deprecated in 3.3 and support will be removed two minor releases later\n",
      "  line0, = pt.plot(epochs_sgd, objvals_sgd, '--b', LineWidth=4)\n",
      "<ipython-input-393-e0be8d3a6f54>:5: MatplotlibDeprecationWarning: Case-insensitive properties were deprecated in 3.3 and support will be removed two minor releases later\n",
      "  pt.xlabel('Epochs', FontSize=20)\n",
      "<ipython-input-393-e0be8d3a6f54>:6: MatplotlibDeprecationWarning: Case-insensitive properties were deprecated in 3.3 and support will be removed two minor releases later\n",
      "  pt.ylabel('Objective Value', FontSize=20)\n",
      "<ipython-input-393-e0be8d3a6f54>:7: MatplotlibDeprecationWarning: Case-insensitive properties were deprecated in 3.3 and support will be removed two minor releases later\n",
      "  pt.xticks(FontSize=16)\n",
      "<ipython-input-393-e0be8d3a6f54>:8: MatplotlibDeprecationWarning: Case-insensitive properties were deprecated in 3.3 and support will be removed two minor releases later\n",
      "  pt.yticks(FontSize=16)\n"
     ]
    },
    {
     "data": {
      "image/png": "[encoded data removed]",
      "text/plain": [
       "<Figure size 432x288 with 1 Axes>"
      ]
     },
     "metadata": {
      "needs_background": "light"
     },
     "output_type": "display_data"
    }
   ],
   "source": [
    "fig = pt.figure(figsize=(6, 4))\n",
    "epochs_sgd = range(len(objvals_sgd))\n",
    "\n",
    "line0, = pt.plot(epochs_sgd, objvals_sgd, '--b', LineWidth=4)\n",
    "pt.xlabel('Epochs', FontSize=20)\n",
    "pt.ylabel('Objective Value', FontSize=20)\n",
    "pt.xticks(FontSize=16)\n",
    "pt.yticks(FontSize=16)\n",
    "pt.legend([line0], [\"SGD\"], fontsize=20)\n",
    "pt.tight_layout()\n",
    "pt.show()"
   ]
  },
  {
   "cell_type": "code",
   "execution_count": 394,
   "id": "contrary-expert",
   "metadata": {},
   "outputs": [
    {
     "name": "stdout",
     "output_type": "stream",
     "text": [
      "(97, 2)\n",
      "2\n",
      "(95, 2)\n",
      "Objective value at epoch e=0 is 100.99256\n",
      "Objective value at epoch e=1 is 89.33904\n",
      "Objective value at epoch e=2 is 82.73879\n",
      "Objective value at epoch e=3 is 88.73274\n",
      "Objective value at epoch e=4 is 61.97537\n",
      "Objective value at epoch e=5 is 64.29796\n",
      "Objective value at epoch e=6 is 69.35564\n",
      "Objective value at epoch e=7 is 58.01469\n",
      "Objective value at epoch e=8 is 61.49904\n",
      "Objective value at epoch e=9 is 53.89254\n",
      "Objective value at epoch e=10 is 56.01231\n",
      "Objective value at epoch e=11 is 53.38745\n",
      "Objective value at epoch e=12 is 54.63229\n",
      "Objective value at epoch e=13 is 55.35263\n",
      "Objective value at epoch e=14 is 52.14027\n",
      "Objective value at epoch e=15 is 55.33421\n",
      "Objective value at epoch e=16 is 52.18128\n",
      "Objective value at epoch e=17 is 52.25973\n",
      "Objective value at epoch e=18 is 52.60088\n",
      "Objective value at epoch e=19 is 51.62775\n",
      "Objective value at epoch e=20 is 50.58551\n",
      "Objective value at epoch e=21 is 51.29148\n",
      "Objective value at epoch e=22 is 51.09838\n",
      "Objective value at epoch e=23 is 50.93774\n",
      "Objective value at epoch e=24 is 51.03773\n",
      "Objective value at epoch e=25 is 50.93287\n",
      "Objective value at epoch e=26 is 50.27065\n",
      "Objective value at epoch e=27 is 50.78682\n",
      "Objective value at epoch e=28 is 50.52553\n",
      "Objective value at epoch e=29 is 50.37098\n",
      "Objective value at epoch e=30 is 50.20994\n",
      "Objective value at epoch e=31 is 50.39458\n",
      "Objective value at epoch e=32 is 50.29618\n",
      "Objective value at epoch e=33 is 50.08885\n",
      "Objective value at epoch e=34 is 50.00034\n",
      "Objective value at epoch e=35 is 50.19807\n",
      "Objective value at epoch e=36 is 50.12579\n",
      "Objective value at epoch e=37 is 50.0229\n",
      "Objective value at epoch e=38 is 49.92868\n",
      "Objective value at epoch e=39 is 50.01759\n",
      "Objective value at epoch e=40 is 49.92724\n",
      "Objective value at epoch e=41 is 49.91988\n",
      "Objective value at epoch e=42 is 49.83983\n",
      "Objective value at epoch e=43 is 49.87438\n",
      "Objective value at epoch e=44 is 49.83219\n",
      "Objective value at epoch e=45 is 49.80958\n",
      "Objective value at epoch e=46 is 49.74957\n",
      "Objective value at epoch e=47 is 49.77979\n",
      "Objective value at epoch e=48 is 49.78185\n",
      "Objective value at epoch e=49 is 49.80413\n",
      "Objective value at epoch e=50 is 49.76009\n",
      "Objective value at epoch e=51 is 49.77146\n",
      "Objective value at epoch e=52 is 49.75375\n",
      "Objective value at epoch e=53 is 49.74596\n",
      "Objective value at epoch e=54 is 49.73844\n",
      "Objective value at epoch e=55 is 49.70725\n",
      "Objective value at epoch e=56 is 49.73209\n",
      "Objective value at epoch e=57 is 49.71626\n",
      "Objective value at epoch e=58 is 49.70214\n",
      "Objective value at epoch e=59 is 49.70448\n",
      "Objective value at epoch e=60 is 49.69608\n",
      "Objective value at epoch e=61 is 49.695\n",
      "Objective value at epoch e=62 is 49.69377\n",
      "Objective value at epoch e=63 is 49.69892\n",
      "Objective value at epoch e=64 is 49.68605\n",
      "Objective value at epoch e=65 is 49.69678\n",
      "Objective value at epoch e=66 is 49.68816\n",
      "Objective value at epoch e=67 is 49.68059\n",
      "Objective value at epoch e=68 is 49.68303\n",
      "Objective value at epoch e=69 is 49.68259\n",
      "Objective value at epoch e=70 is 49.6826\n",
      "Objective value at epoch e=71 is 49.68019\n",
      "Objective value at epoch e=72 is 49.6804\n",
      "Objective value at epoch e=73 is 49.6776\n",
      "Objective value at epoch e=74 is 49.6761\n",
      "Objective value at epoch e=75 is 49.67572\n",
      "Objective value at epoch e=76 is 49.67755\n",
      "Objective value at epoch e=77 is 49.67561\n",
      "Objective value at epoch e=78 is 49.6734\n",
      "Objective value at epoch e=79 is 49.67309\n",
      "Objective value at epoch e=80 is 49.67565\n",
      "Objective value at epoch e=81 is 49.67342\n",
      "Objective value at epoch e=82 is 49.67225\n",
      "Objective value at epoch e=83 is 49.67258\n",
      "Objective value at epoch e=84 is 49.67157\n",
      "Objective value at epoch e=85 is 49.67181\n",
      "Objective value at epoch e=86 is 49.67232\n",
      "Objective value at epoch e=87 is 49.67179\n",
      "Objective value at epoch e=88 is 49.67057\n",
      "Objective value at epoch e=89 is 49.67174\n",
      "Objective value at epoch e=90 is 49.67145\n",
      "Objective value at epoch e=91 is 49.67076\n",
      "Objective value at epoch e=92 is 49.67063\n",
      "Objective value at epoch e=93 is 49.67076\n",
      "Objective value at epoch e=94 is 49.67054\n",
      "Objective value at epoch e=95 is 49.6703\n",
      "Objective value at epoch e=96 is 49.6706\n",
      "Objective value at epoch e=97 is 49.67027\n",
      "Objective value at epoch e=98 is 49.67008\n",
      "Objective value at epoch e=99 is 49.67021\n",
      "Objective value at epoch e=100 is 49.67021\n",
      "[[ 0.97315594]\n",
      " [-1.64391747]]\n"
     ]
    }
   ],
   "source": [
    "#### MB-SGD with batch size b=5\n",
    "lam = 1E-6\n",
    "b = 5\n",
    "stepsize = 0.00325 # you must tune this parameter\n",
    "w, objvals_mbsgd = mb_sgd(x_train, y, b, stepsize, lam, max_epoch=100)\n",
    "print(w)"
   ]
  },
  {
   "cell_type": "code",
   "execution_count": 395,
   "id": "deadly-amendment",
   "metadata": {},
   "outputs": [
    {
     "name": "stderr",
     "output_type": "stream",
     "text": [
      "<ipython-input-395-a7a79007e122>:4: MatplotlibDeprecationWarning: Case-insensitive properties were deprecated in 3.3 and support will be removed two minor releases later\n",
      "  line0, = pt.plot(epochs_mbsgd, objvals_mbsgd, '--b', LineWidth=4)\n",
      "<ipython-input-395-a7a79007e122>:5: MatplotlibDeprecationWarning: Case-insensitive properties were deprecated in 3.3 and support will be removed two minor releases later\n",
      "  pt.xlabel('Epochs', FontSize=20)\n",
      "<ipython-input-395-a7a79007e122>:6: MatplotlibDeprecationWarning: Case-insensitive properties were deprecated in 3.3 and support will be removed two minor releases later\n",
      "  pt.ylabel('Objective Value', FontSize=20)\n",
      "<ipython-input-395-a7a79007e122>:7: MatplotlibDeprecationWarning: Case-insensitive properties were deprecated in 3.3 and support will be removed two minor releases later\n",
      "  pt.xticks(FontSize=16)\n",
      "<ipython-input-395-a7a79007e122>:8: MatplotlibDeprecationWarning: Case-insensitive properties were deprecated in 3.3 and support will be removed two minor releases later\n",
      "  pt.yticks(FontSize=16)\n"
     ]
    },
    {
     "data": {
      "image/png": "[encoded data removed]",
      "text/plain": [
       "<Figure size 432x288 with 1 Axes>"
      ]
     },
     "metadata": {
      "needs_background": "light"
     },
     "output_type": "display_data"
    }
   ],
   "source": [
    "fig = pt.figure(figsize=(6, 4))\n",
    "epochs_mbsgd = range(len(objvals_mbsgd))\n",
    "\n",
    "line0, = pt.plot(epochs_mbsgd, objvals_mbsgd, '--b', LineWidth=4)\n",
    "pt.xlabel('Epochs', FontSize=20)\n",
    "pt.ylabel('Objective Value', FontSize=20)\n",
    "pt.xticks(FontSize=16)\n",
    "pt.yticks(FontSize=16)\n",
    "pt.legend([line0], [\"MBSGD\"], fontsize=20)\n",
    "pt.tight_layout()\n",
    "pt.show()"
   ]
  },
  {
   "cell_type": "markdown",
   "id": "referenced-customs",
   "metadata": {},
   "source": [
    "## Learning Rate vs Objective Function"
   ]
  },
  {
   "cell_type": "code",
   "execution_count": 411,
   "id": "rotary-stanley",
   "metadata": {},
   "outputs": [
    {
     "name": "stdout",
     "output_type": "stream",
     "text": [
      "Objective value at epoch e=200 is 8.96572\n",
      "Objective value at epoch e=200 is 8.95404\n",
      "Objective value at epoch e=200 is 8.95415\n",
      "Objective value at epoch e=200 is 119.92057\n",
      "Objective value at epoch e=200 is 9.32963\n",
      "Objective value at epoch e=200 is 336.50185\n",
      "Objective value at epoch e=200 is 585.58285\n"
     ]
    }
   ],
   "source": [
    "#### MB-SGD with batch size b=1\n",
    "#### Equivalent to stochastic gradient descent\n",
    "lam = 1E-6\n",
    "b = 1\n",
    "objval_sgd = []\n",
    "stepsizes = [0.030, 0.031, 0.032, 0.033, 0.034, 0.035, 0.036]\n",
    "for stepsize in stepsizes:\n",
    "    w, objvals_sgd = mb_sgd(x_train, y, b, stepsize, lam, max_epoch=200, limit_output=True)\n",
    "    objval_sgd.append(objvals_sgd[-1])"
   ]
  },
  {
   "cell_type": "code",
   "execution_count": 413,
   "id": "engaged-bedroom",
   "metadata": {},
   "outputs": [
    {
     "name": "stderr",
     "output_type": "stream",
     "text": [
      "<ipython-input-413-f25f71aa77f7>:3: MatplotlibDeprecationWarning: Case-insensitive properties were deprecated in 3.3 and support will be removed two minor releases later\n",
      "  line0, = pt.plot(stepsizes, objval_sgd, '--b', LineWidth=4)\n",
      "<ipython-input-413-f25f71aa77f7>:4: MatplotlibDeprecationWarning: Case-insensitive properties were deprecated in 3.3 and support will be removed two minor releases later\n",
      "  pt.xlabel('Learning Rates', FontSize=20)\n",
      "<ipython-input-413-f25f71aa77f7>:5: MatplotlibDeprecationWarning: Case-insensitive properties were deprecated in 3.3 and support will be removed two minor releases later\n",
      "  pt.ylabel('Objective Value', FontSize=20)\n",
      "<ipython-input-413-f25f71aa77f7>:6: MatplotlibDeprecationWarning: Case-insensitive properties were deprecated in 3.3 and support will be removed two minor releases later\n",
      "  pt.xticks(FontSize=16)\n",
      "<ipython-input-413-f25f71aa77f7>:7: MatplotlibDeprecationWarning: Case-insensitive properties were deprecated in 3.3 and support will be removed two minor releases later\n",
      "  pt.yticks(FontSize=16)\n"
     ]
    },
    {
     "data": {
      "image/png": "[encoded data removed]",
      "text/plain": [
       "<Figure size 432x288 with 1 Axes>"
      ]
     },
     "metadata": {
      "needs_background": "light"
     },
     "output_type": "display_data"
    }
   ],
   "source": [
    "fig = pt.figure(figsize=(6, 4))\n",
    "\n",
    "line0, = pt.plot(stepsizes, objval_sgd, '--b', LineWidth=4)\n",
    "pt.xlabel('Learning Rates', FontSize=20)\n",
    "pt.ylabel('Objective Value', FontSize=20)\n",
    "pt.xticks(FontSize=16)\n",
    "pt.yticks(FontSize=16)\n",
    "pt.legend([line0], [\"SGD\"], fontsize=20)\n",
    "pt.tight_layout()\n",
    "pt.show()"
   ]
  },
  {
   "cell_type": "code",
   "execution_count": 429,
   "id": "adult-bundle",
   "metadata": {},
   "outputs": [
    {
     "name": "stdout",
     "output_type": "stream",
     "text": [
      "(97, 2)\n",
      "2\n",
      "(95, 2)\n",
      "Objective value at epoch e=200 is 55.28108\n",
      "(97, 2)\n",
      "2\n",
      "(95, 2)\n",
      "Objective value at epoch e=200 is 52.48201\n",
      "(97, 2)\n",
      "2\n",
      "(95, 2)\n",
      "Objective value at epoch e=200 is 50.41045\n",
      "(97, 2)\n",
      "2\n",
      "(95, 2)\n",
      "Objective value at epoch e=200 is 48.85907\n",
      "(97, 2)\n",
      "2\n",
      "(95, 2)\n",
      "Objective value at epoch e=200 is 47.09744\n",
      "(97, 2)\n",
      "2\n",
      "(95, 2)\n",
      "Objective value at epoch e=200 is 46.73372\n",
      "(97, 2)\n",
      "2\n",
      "(95, 2)\n",
      "Objective value at epoch e=200 is 54.56218\n"
     ]
    }
   ],
   "source": [
    "#### MB-SGD with batch size b=5\n",
    "lam = 1E-6\n",
    "b = 5\n",
    "objval_mbsgd = []\n",
    "stepsizes = [0.0010, 0.002, 0.0030, 0.0040, 0.0050, 0.0060, 0.0065]\n",
    "for stepsize in stepsizes:\n",
    "    w, objvals_mbsgd = mb_sgd(x_train, y, b, stepsize, lam, max_epoch=200, limit_output=True)\n",
    "    objval_mbsgd.append(objvals_mbsgd[-1])"
   ]
  },
  {
   "cell_type": "code",
   "execution_count": 430,
   "id": "commercial-nerve",
   "metadata": {},
   "outputs": [
    {
     "name": "stderr",
     "output_type": "stream",
     "text": [
      "<ipython-input-430-5f95d6bb4c6c>:3: MatplotlibDeprecationWarning: Case-insensitive properties were deprecated in 3.3 and support will be removed two minor releases later\n",
      "  line0, = pt.plot(stepsizes, objval_mbsgd, '--b', LineWidth=4)\n",
      "<ipython-input-430-5f95d6bb4c6c>:4: MatplotlibDeprecationWarning: Case-insensitive properties were deprecated in 3.3 and support will be removed two minor releases later\n",
      "  pt.xlabel('Learning Rates', FontSize=20)\n",
      "<ipython-input-430-5f95d6bb4c6c>:5: MatplotlibDeprecationWarning: Case-insensitive properties were deprecated in 3.3 and support will be removed two minor releases later\n",
      "  pt.ylabel('Objective Value', FontSize=20)\n",
      "<ipython-input-430-5f95d6bb4c6c>:6: MatplotlibDeprecationWarning: Case-insensitive properties were deprecated in 3.3 and support will be removed two minor releases later\n",
      "  pt.xticks(FontSize=16)\n",
      "<ipython-input-430-5f95d6bb4c6c>:7: MatplotlibDeprecationWarning: Case-insensitive properties were deprecated in 3.3 and support will be removed two minor releases later\n",
      "  pt.yticks(FontSize=16)\n"
     ]
    },
    {
     "data": {
      "image/png": "[encoded data removed]",
      "text/plain": [
       "<Figure size 432x288 with 1 Axes>"
      ]
     },
     "metadata": {
      "needs_background": "light"
     },
     "output_type": "display_data"
    }
   ],
   "source": [
    "fig = pt.figure(figsize=(6, 4))\n",
    "\n",
    "line0, = pt.plot(stepsizes, objval_mbsgd, '--b', LineWidth=4)\n",
    "pt.xlabel('Learning Rates', FontSize=20)\n",
    "pt.ylabel('Objective Value', FontSize=20)\n",
    "pt.xticks(FontSize=16)\n",
    "pt.yticks(FontSize=16)\n",
    "pt.legend([line0], [\"MBSGD\"], fontsize=20)\n",
    "pt.tight_layout()\n",
    "pt.show()"
   ]
  },
  {
   "cell_type": "markdown",
   "id": "furnished-kernel",
   "metadata": {},
   "source": [
    "## Discussion"
   ]
  },
  {
   "cell_type": "markdown",
   "id": "racial-longitude",
   "metadata": {},
   "source": []
  }
 ],
 "metadata": {
  "kernelspec": {
   "display_name": "cs583",
   "language": "python",
   "name": "cs583"
  },
  "language_info": {
   "codemirror_mode": {
    "name": "ipython",
    "version": 3
   },
   "file_extension": ".py",
   "mimetype": "text/x-python",
   "name": "python",
   "nbconvert_exporter": "python",
   "pygments_lexer": "ipython3",
   "version": "3.8.5"
  }
 },
 "nbformat": 4,
 "nbformat_minor": 5
}
