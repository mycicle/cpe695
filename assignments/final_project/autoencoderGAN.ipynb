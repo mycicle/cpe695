{
 "cells": [
  {
   "cell_type": "code",
   "execution_count": 1,
   "id": "dated-howard",
   "metadata": {},
   "outputs": [],
   "source": [
    "import os\n",
    "import PIL\n",
    "import glob\n",
    "import time\n",
    "import imageio\n",
    "import numpy as np\n",
    "import pandas as pd\n",
    "import tensorflow as tf\n",
    "import matplotlib.pyplot as pt\n",
    "\n",
    "from IPython import display\n",
    "from tensorflow.keras import layers, losses\n",
    "from sklearn.model_selection import train_test_split\n",
    "from sklearn.metrics import accuracy_score, precision_score, recall_score"
   ]
  },
  {
   "cell_type": "code",
   "execution_count": 2,
   "id": "turkish-retailer",
   "metadata": {},
   "outputs": [
    {
     "data": {
      "text/plain": [
       "'2.5.0-dev20210130'"
      ]
     },
     "execution_count": 2,
     "metadata": {},
     "output_type": "execute_result"
    }
   ],
   "source": [
    "tf.__version__"
   ]
  },
  {
   "cell_type": "code",
   "execution_count": 3,
   "id": "lesser-despite",
   "metadata": {},
   "outputs": [],
   "source": [
    "# physical_devices = tf.config.list_physical_devices('GPU') \n",
    "# tf.config.experimental.set_memory_growth(physical_devices[0], True)"
   ]
  },
  {
   "cell_type": "code",
   "execution_count": 4,
   "id": "referenced-singles",
   "metadata": {},
   "outputs": [],
   "source": [
    "(train_images, _), (test_images, _) = tf.keras.datasets.mnist.load_data()"
   ]
  },
  {
   "cell_type": "code",
   "execution_count": 5,
   "id": "front-integral",
   "metadata": {},
   "outputs": [
    {
     "data": {
      "text/plain": [
       "(60000, 28, 28)"
      ]
     },
     "execution_count": 5,
     "metadata": {},
     "output_type": "execute_result"
    }
   ],
   "source": [
    "train_images.shape"
   ]
  },
  {
   "cell_type": "code",
   "execution_count": 6,
   "id": "through-jackson",
   "metadata": {},
   "outputs": [
    {
     "data": {
      "text/plain": [
       "<matplotlib.image.AxesImage at 0x7fd68eef6700>"
      ]
     },
     "execution_count": 6,
     "metadata": {},
     "output_type": "execute_result"
    },
    {
     "data": {
      "image/png": "[encoded data removed]",
      "text/plain": [
       "<Figure size 432x288 with 1 Axes>"
      ]
     },
     "metadata": {
      "needs_background": "light"
     },
     "output_type": "display_data"
    }
   ],
   "source": [
    "pt.imshow(train_images[0], cmap='gray')"
   ]
  },
  {
   "cell_type": "code",
   "execution_count": 7,
   "id": "retained-pontiac",
   "metadata": {},
   "outputs": [],
   "source": [
    "train_images = train_images.reshape(train_images.shape[0], 28, 28, 1).astype('float32')\n",
    "test_images = test_images.reshape(test_images.shape[0], 28, 28, 1).astype('float32')"
   ]
  },
  {
   "cell_type": "code",
   "execution_count": 8,
   "id": "collected-debate",
   "metadata": {},
   "outputs": [],
   "source": [
    "def normalize_images(images):\n",
    "    \"\"\"\n",
    "    Normalize the images to [-1, 1]\n",
    "    \"\"\"\n",
    "    return (images - 127.5) / 127.5"
   ]
  },
  {
   "cell_type": "code",
   "execution_count": 9,
   "id": "conservative-retro",
   "metadata": {},
   "outputs": [],
   "source": [
    "train_images = normalize_images(train_images)\n",
    "test_images = normalize_images(test_images)"
   ]
  },
  {
   "cell_type": "code",
   "execution_count": 10,
   "id": "familiar-cooler",
   "metadata": {},
   "outputs": [],
   "source": [
    "BUFFER_SIZE = 60000\n",
    "BATCH_SIZE = 256"
   ]
  },
  {
   "cell_type": "code",
   "execution_count": 11,
   "id": "sorted-audio",
   "metadata": {},
   "outputs": [],
   "source": [
    "train_dataset = tf.data.Dataset.from_tensor_slices(train_images).shuffle(BUFFER_SIZE).batch(BATCH_SIZE)\n",
    "test_dataset = tf.data.Dataset.from_tensor_slices(test_images).shuffle(BUFFER_SIZE).batch(BATCH_SIZE)"
   ]
  },
  {
   "cell_type": "markdown",
   "id": "virgin-harassment",
   "metadata": {},
   "source": [
    "## Create the Generator Model"
   ]
  },
  {
   "cell_type": "code",
   "execution_count": 12,
   "id": "flexible-paradise",
   "metadata": {},
   "outputs": [],
   "source": [
    "def make_generator_model():\n",
    "    # first is the downsampling stage which is similar to that of https://arxiv.org/pdf/2002.05638.pdf\n",
    "    # a 100D noise vector\n",
    "    inp = layers.Input(shape=(100,))\n",
    "    x = layers.Dense(14*14*124, use_bias=False)(inp)\n",
    "    x = layers.BatchNormalization()(x)\n",
    "    x = layers.LeakyReLU()(x)\n",
    "    \n",
    "    x = layers.Reshape((14, 14, 124))(x)\n",
    "    assert tuple(x.get_shape()) == (None, 14, 14, 124)\n",
    "    \n",
    "    x = layers.Conv2D(64, (5, 5), strides=(1, 1), padding='same', use_bias=False)(x)\n",
    "    assert tuple(x.get_shape()) == (None, 14, 14, 64)\n",
    "    x = layers.BatchNormalization()(x)\n",
    "    x = layers.LeakyReLU()(x)\n",
    "\n",
    "    y = layers.Conv2D(64, (5, 5), strides=(1, 1), padding='same', use_bias=False)(x)\n",
    "    assert tuple(y.get_shape()) == (None, 14, 14, 64)\n",
    "    y = layers.BatchNormalization()(y)\n",
    "    y = layers.LeakyReLU()(y)\n",
    "    \n",
    "    y = layers.Add()([x, y])\n",
    "    \n",
    "    y = layers.MaxPool2D((2, 2))(y)\n",
    "    \n",
    "    y = layers.Conv2D(32, (5, 5), strides=(2, 2), padding='same', use_bias=False)(y)\n",
    "    assert tuple(y.get_shape()) == (None, 4, 4, 32)\n",
    "    y = layers.BatchNormalization()(y)\n",
    "    y = layers.LeakyReLU()(y)\n",
    "    \n",
    "    z = layers.Conv2D(32, (5, 5), strides=(1, 1), padding='same', use_bias=False)(y)\n",
    "    assert tuple(z.get_shape()) == (None, 4, 4, 32)\n",
    "    z = layers.BatchNormalization()(z)\n",
    "    z = layers.LeakyReLU()(z)\n",
    "    \n",
    "    z = layers.Add()([y, z])\n",
    "    \n",
    "    z = layers.Conv2DTranspose(16, (5, 5), strides=(2, 2), padding='same', use_bias=False)(z)\n",
    "    assert tuple(z.get_shape()) == (None, 8, 8, 16)\n",
    "    z = layers.BatchNormalization()(z)\n",
    "    z = layers.LeakyReLU()(z)\n",
    "    \n",
    "    z = layers.Conv2DTranspose(8, (5, 5), strides=(2, 2), padding='same', use_bias=False)(z)\n",
    "    assert tuple(z.get_shape()) == (None, 16, 16, 8)\n",
    "    z = layers.BatchNormalization()(z)\n",
    "    z = layers.LeakyReLU()(z)\n",
    "    \n",
    "    z = layers.Conv2DTranspose(4, (5, 5), strides=(2, 2), padding='same', use_bias=False)(z)\n",
    "    assert tuple(z.get_shape()) == (None, 32, 32, 4)\n",
    "    z = layers.BatchNormalization()(z)\n",
    "    z = layers.LeakyReLU()(z)\n",
    "    \n",
    "    z = layers.Flatten()(z)\n",
    "    \n",
    "    z = layers.Dense(28*28, use_bias=False)(z)\n",
    "    assert tuple(z.get_shape()) == (None, 784)\n",
    "    z = layers.Reshape((28, 28, 1))(z)\n",
    "    \n",
    "    model = tf.keras.models.Model(inputs=inp, outputs=z)\n",
    "    \n",
    "    return model"
   ]
  },
  {
   "cell_type": "code",
   "execution_count": 13,
   "id": "broadband-museum",
   "metadata": {},
   "outputs": [],
   "source": [
    "generator = make_generator_model()"
   ]
  },
  {
   "cell_type": "code",
   "execution_count": 14,
   "id": "academic-happening",
   "metadata": {},
   "outputs": [],
   "source": [
    "# generator.summary()"
   ]
  },
  {
   "cell_type": "code",
   "execution_count": 15,
   "id": "systematic-tuner",
   "metadata": {},
   "outputs": [],
   "source": [
    "# tf.keras.utils.plot_model(generator, to_file=\"generator_architecture.png\")"
   ]
  },
  {
   "cell_type": "code",
   "execution_count": 16,
   "id": "lesser-decade",
   "metadata": {},
   "outputs": [
    {
     "data": {
      "text/plain": [
       "<matplotlib.image.AxesImage at 0x7fd72e0835e0>"
      ]
     },
     "execution_count": 16,
     "metadata": {},
     "output_type": "execute_result"
    },
    {
     "data": {
      "image/png": "[encoded data removed]",
      "text/plain": [
       "<Figure size 432x288 with 1 Axes>"
      ]
     },
     "metadata": {
      "needs_background": "light"
     },
     "output_type": "display_data"
    }
   ],
   "source": [
    "noise = tf.random.normal([1, 100])\n",
    "generated_image = generator(noise, training=False)\n",
    "\n",
    "pt.imshow(generated_image[0, :, :, 0], cmap='gray')"
   ]
  },
  {
   "cell_type": "code",
   "execution_count": 17,
   "id": "reliable-breakdown",
   "metadata": {},
   "outputs": [],
   "source": [
    "def make_discriminator_model():\n",
    "    model = tf.keras.models.Sequential()\n",
    "    model.add(layers.Conv2D(10, (5, 5), input_shape=(28, 28, 1)))\n",
    "    model.add(layers.BatchNormalization())\n",
    "    model.add(layers.LeakyReLU())\n",
    "    model.add(layers.MaxPooling2D((2, 2)))\n",
    "\n",
    "    model.add(layers.Conv2D(10, (5, 5), padding='same')) # zero padding\n",
    "    model.add(layers.BatchNormalization())\n",
    "    model.add(layers.LeakyReLU())\n",
    "    model.add(layers.MaxPooling2D((2, 2)))\n",
    "\n",
    "    model.add(layers.Conv2D(10, (5, 5), padding='same')) # zero padding\n",
    "    model.add(layers.BatchNormalization())\n",
    "    model.add(layers.LeakyReLU())\n",
    "\n",
    "    model.add(layers.Flatten())\n",
    "\n",
    "    model.add(layers.Dense(30))\n",
    "    model.add(layers.LeakyReLU())\n",
    "\n",
    "    model.add(layers.Dropout(0.25))\n",
    "\n",
    "    model.add(layers.Dense(1))\n",
    "    \n",
    "    return model"
   ]
  },
  {
   "cell_type": "code",
   "execution_count": 18,
   "id": "lucky-intake",
   "metadata": {},
   "outputs": [
    {
     "name": "stdout",
     "output_type": "stream",
     "text": [
      "tf.Tensor([[0.00011292]], shape=(1, 1), dtype=float32)\n"
     ]
    }
   ],
   "source": [
    "discriminator = make_discriminator_model()\n",
    "decision = discriminator(generated_image)\n",
    "print(decision)"
   ]
  },
  {
   "cell_type": "code",
   "execution_count": 19,
   "id": "introductory-bouquet",
   "metadata": {},
   "outputs": [],
   "source": [
    "cross_entropy = tf.keras.losses.BinaryCrossentropy(from_logits=True)"
   ]
  },
  {
   "cell_type": "code",
   "execution_count": 20,
   "id": "organizational-brunswick",
   "metadata": {},
   "outputs": [],
   "source": [
    "def discriminator_loss(real_output, fake_output):\n",
    "    real_loss = cross_entropy(tf.ones_like(real_output), real_output)\n",
    "    fake_loss = cross_entropy(tf.zeros_like(fake_output), fake_output)\n",
    "    total_loss = real_loss + fake_loss\n",
    "    return total_loss"
   ]
  },
  {
   "cell_type": "code",
   "execution_count": 21,
   "id": "former-links",
   "metadata": {},
   "outputs": [],
   "source": [
    "def generator_loss(fake_output):\n",
    "    return cross_entropy(tf.ones_like(fake_output), fake_output)"
   ]
  },
  {
   "cell_type": "code",
   "execution_count": 22,
   "id": "terminal-round",
   "metadata": {},
   "outputs": [],
   "source": [
    "generator_optimizer = tf.keras.optimizers.RMSprop(lr=1e-4)\n",
    "discriminator_optimizer = tf.keras.optimizers.RMSprop(lr=1e-4)"
   ]
  },
  {
   "cell_type": "code",
   "execution_count": 23,
   "id": "painted-albert",
   "metadata": {},
   "outputs": [],
   "source": [
    "checkpoint_dir = './autoencoderGAN_training_checkpoints'\n",
    "checkpoint_prefix = os.path.join(checkpoint_dir, 'ckpt')\n",
    "checkpoint = tf.train.Checkpoint(generator_optimizer=generator_optimizer,\n",
    "                                 discriminator_optimizer=discriminator_optimizer,\n",
    "                                 generator=generator,\n",
    "                                 discriminator=discriminator)"
   ]
  },
  {
   "cell_type": "code",
   "execution_count": 24,
   "id": "intermediate-government",
   "metadata": {},
   "outputs": [],
   "source": [
    "EPOCHS = 50\n",
    "noise_dim = 100\n",
    "num_examples_to_generate=24\n",
    "\n",
    "seed = tf.random.normal([num_examples_to_generate, noise_dim])"
   ]
  },
  {
   "cell_type": "code",
   "execution_count": 25,
   "id": "reasonable-haiti",
   "metadata": {},
   "outputs": [],
   "source": [
    "@tf.function\n",
    "def train_step(images):\n",
    "    noise = tf.random.normal([BATCH_SIZE, noise_dim])\n",
    "    \n",
    "    with tf.GradientTape() as gen_tape, tf.GradientTape() as disc_tape:\n",
    "        generated_images = generator(noise, training=True)\n",
    "        \n",
    "        real_output = discriminator(images, training=True)\n",
    "        fake_output = discriminator(generated_images, training=True)\n",
    "        \n",
    "        gen_loss = generator_loss(fake_output)\n",
    "        disc_loss = discriminator_loss(real_output, fake_output)\n",
    "        \n",
    "    gradients_of_generator = gen_tape.gradient(gen_loss, generator.trainable_variables)\n",
    "    gradients_of_discriminator = disc_tape.gradient(disc_loss, discriminator.trainable_variables)\n",
    "    \n",
    "    generator_optimizer.apply_gradients(zip(gradients_of_generator, generator.trainable_variables))\n",
    "    discriminator_optimizer.apply_gradients(zip(gradients_of_discriminator, discriminator.trainable_variables))\n",
    "    "
   ]
  },
  {
   "cell_type": "code",
   "execution_count": 26,
   "id": "mysterious-intermediate",
   "metadata": {},
   "outputs": [],
   "source": [
    "def generate_and_save_images(model, epoch, test_input):\n",
    "  # Notice `training` is set to False.\n",
    "  # This is so all layers run in inference mode (batchnorm).\n",
    "  predictions = model(test_input, training=False)\n",
    "\n",
    "  fig = pt.figure(figsize=(4, 6))\n",
    "\n",
    "  for i in range(predictions.shape[0]):\n",
    "      pt.subplot(4, 6, i+1)\n",
    "      pt.imshow(predictions[i, :, :, 0] * 127.5 + 127.5, cmap='gray')\n",
    "      pt.axis('off')\n",
    "\n",
    "  pt.savefig('autoencoder_image_at_epoch_{:04d}.png'.format(epoch))\n",
    "  pt.show()"
   ]
  },
  {
   "cell_type": "code",
   "execution_count": 27,
   "id": "mexican-minneapolis",
   "metadata": {},
   "outputs": [],
   "source": [
    "def train(dataset, epochs):\n",
    "    for epoch in range(epochs):\n",
    "        start = time.time()\n",
    "        \n",
    "        for image_batch in dataset:\n",
    "            train_step(image_batch)\n",
    "        \n",
    "        # Produce images for the GIF every epoch\n",
    "        display.clear_output(wait=True)\n",
    "        generate_and_save_images(generator, \n",
    "                                    epoch+1,\n",
    "                                    seed)\n",
    "        \n",
    "        # save the model every 15 epochs\n",
    "        if (epoch+1) % 15 == 0:\n",
    "            checkpoint.save(file_prefix=checkpoint_prefix)\n",
    "            \n",
    "        print(f'Time for epoch {epoch} is {time.time() - start}')\n",
    "        \n",
    "    # Generate an image after the final epoch\n",
    "    display.clear_output(wait=True)\n",
    "    generate_and_save_images(generator, \n",
    "                                epochs,\n",
    "                                seed)"
   ]
  },
  {
   "cell_type": "code",
   "execution_count": 28,
   "id": "fatty-timer",
   "metadata": {},
   "outputs": [
    {
     "data": {
      "image/png": "[encoded data removed]",
      "text/plain": [
       "<Figure size 288x432 with 24 Axes>"
      ]
     },
     "metadata": {
      "needs_background": "light"
     },
     "output_type": "display_data"
    }
   ],
   "source": [
    "train(train_dataset, EPOCHS)"
   ]
  },
  {
   "cell_type": "code",
   "execution_count": 29,
   "id": "increasing-phone",
   "metadata": {},
   "outputs": [
    {
     "data": {
      "text/plain": [
       "<tensorflow.python.training.tracking.util.CheckpointLoadStatus at 0x7fd68ef79ee0>"
      ]
     },
     "execution_count": 29,
     "metadata": {},
     "output_type": "execute_result"
    }
   ],
   "source": [
    "checkpoint.restore(tf.train.latest_checkpoint(checkpoint_dir))"
   ]
  },
  {
   "cell_type": "code",
   "execution_count": 35,
   "id": "sudden-michigan",
   "metadata": {},
   "outputs": [],
   "source": [
    "# Display a single image using epoch number\n",
    "def display_image(epoch_no):\n",
    "    return PIL.Image.open('autoencoder_image_at_epoch_{:04d}.png'.format(epoch_no))"
   ]
  },
  {
   "cell_type": "code",
   "execution_count": 36,
   "id": "experimental-thumbnail",
   "metadata": {},
   "outputs": [
    {
     "data": {
      "image/png": "[encoded data removed]",
      "text/plain": [
       "<PIL.PngImagePlugin.PngImageFile image mode=RGBA size=288x432 at 0x7FD74C3A91C0>"
      ]
     },
     "execution_count": 36,
     "metadata": {},
     "output_type": "execute_result"
    }
   ],
   "source": [
    "display_image(EPOCHS)"
   ]
  },
  {
   "cell_type": "code",
   "execution_count": 37,
   "id": "surface-confusion",
   "metadata": {},
   "outputs": [],
   "source": [
    "anim_file = 'adcgan.gif'\n",
    "\n",
    "with imageio.get_writer(anim_file, mode='I') as writer:\n",
    "    filenames = glob.glob('autoencoder*.png')\n",
    "    filenames = sorted(filenames)\n",
    "    for filename in filenames:\n",
    "        image = imageio.imread(filename)\n",
    "        writer.append_data(image)\n",
    "    image = imageio.imread(filename)\n",
    "    writer.append_data(image)"
   ]
  },
  {
   "cell_type": "code",
   "execution_count": 38,
   "id": "generic-patient",
   "metadata": {},
   "outputs": [
    {
     "data": {
      "text/plain": [
       "<matplotlib.image.AxesImage at 0x7fd72cf0a190>"
      ]
     },
     "execution_count": 38,
     "metadata": {},
     "output_type": "execute_result"
    },
    {
     "data": {
      "image/png": "[encoded data removed]",
      "text/plain": [
       "<Figure size 432x288 with 1 Axes>"
      ]
     },
     "metadata": {
      "needs_background": "light"
     },
     "output_type": "display_data"
    }
   ],
   "source": [
    "noise = tf.random.normal([1, 100])\n",
    "image = generator(noise, training=False)\n",
    "pt.imshow(image[0, :, :, 0] * 127.5 + 127.5, cmap='gray')"
   ]
  }
 ],
 "metadata": {
  "kernelspec": {
   "display_name": "cs583",
   "language": "python",
   "name": "cs583"
  },
  "language_info": {
   "codemirror_mode": {
    "name": "ipython",
    "version": 3
   },
   "file_extension": ".py",
   "mimetype": "text/x-python",
   "name": "python",
   "nbconvert_exporter": "python",
   "pygments_lexer": "ipython3",
   "version": "3.8.5"
  }
 },
 "nbformat": 4,
 "nbformat_minor": 5
}
