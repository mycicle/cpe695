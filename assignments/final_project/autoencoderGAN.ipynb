{
 "cells": [
  {
   "cell_type": "code",
   "execution_count": 1,
   "id": "wired-capitol",
   "metadata": {},
   "outputs": [],
   "source": [
    "import os\n",
    "import PIL\n",
    "import glob\n",
    "import time\n",
    "import imageio\n",
    "import numpy as np\n",
    "import pandas as pd\n",
    "import tensorflow as tf\n",
    "import matplotlib.pyplot as pt\n",
    "\n",
    "from IPython import display\n",
    "from tensorflow.keras import layers, losses\n",
    "from sklearn.model_selection import train_test_split\n",
    "from sklearn.metrics import accuracy_score, precision_score, recall_score"
   ]
  },
  {
   "cell_type": "code",
   "execution_count": 2,
   "id": "subtle-absorption",
   "metadata": {},
   "outputs": [
    {
     "data": {
      "text/plain": [
       "'2.5.0-dev20210130'"
      ]
     },
     "execution_count": 2,
     "metadata": {},
     "output_type": "execute_result"
    }
   ],
   "source": [
    "tf.__version__"
   ]
  },
  {
   "cell_type": "code",
   "execution_count": 3,
   "id": "composed-single",
   "metadata": {},
   "outputs": [],
   "source": [
    "# physical_devices = tf.config.list_physical_devices('GPU') \n",
    "# tf.config.experimental.set_memory_growth(physical_devices[0], True)"
   ]
  },
  {
   "cell_type": "code",
   "execution_count": 4,
   "id": "going-eating",
   "metadata": {},
   "outputs": [],
   "source": [
    "(train_images, _), (test_images, _) = tf.keras.datasets.mnist.load_data()"
   ]
  },
  {
   "cell_type": "code",
   "execution_count": 5,
   "id": "former-usage",
   "metadata": {},
   "outputs": [
    {
     "data": {
      "text/plain": [
       "(60000, 28, 28)"
      ]
     },
     "execution_count": 5,
     "metadata": {},
     "output_type": "execute_result"
    }
   ],
   "source": [
    "train_images.shape"
   ]
  },
  {
   "cell_type": "code",
   "execution_count": 6,
   "id": "awful-evanescence",
   "metadata": {},
   "outputs": [
    {
     "data": {
      "text/plain": [
       "<matplotlib.image.AxesImage at 0x7f09398cba30>"
      ]
     },
     "execution_count": 6,
     "metadata": {},
     "output_type": "execute_result"
    },
    {
     "data": {
      "image/png": "[encoded data removed]",
      "text/plain": [
       "<Figure size 432x288 with 1 Axes>"
      ]
     },
     "metadata": {
      "needs_background": "light"
     },
     "output_type": "display_data"
    }
   ],
   "source": [
    "pt.imshow(train_images[0], cmap='gray')"
   ]
  },
  {
   "cell_type": "code",
   "execution_count": 7,
   "id": "framed-celebrity",
   "metadata": {},
   "outputs": [],
   "source": [
    "train_images = train_images.reshape(train_images.shape[0], 28, 28, 1).astype('float32')\n",
    "test_images = test_images.reshape(test_images.shape[0], 28, 28, 1).astype('float32')"
   ]
  },
  {
   "cell_type": "code",
   "execution_count": 8,
   "id": "exact-substitute",
   "metadata": {},
   "outputs": [],
   "source": [
    "def normalize_images(images):\n",
    "    \"\"\"\n",
    "    Normalize the images to [-1, 1]\n",
    "    \"\"\"\n",
    "    return (images - 127.5) / 127.5"
   ]
  },
  {
   "cell_type": "code",
   "execution_count": 9,
   "id": "coordinated-viewer",
   "metadata": {},
   "outputs": [],
   "source": [
    "train_images = normalize_images(train_images)\n",
    "test_images = normalize_images(test_images)"
   ]
  },
  {
   "cell_type": "code",
   "execution_count": 10,
   "id": "nearby-windows",
   "metadata": {},
   "outputs": [],
   "source": [
    "BUFFER_SIZE = 60000\n",
    "BATCH_SIZE = 256"
   ]
  },
  {
   "cell_type": "code",
   "execution_count": 11,
   "id": "hearing-broadcasting",
   "metadata": {},
   "outputs": [],
   "source": [
    "train_dataset = tf.data.Dataset.from_tensor_slices(train_images).shuffle(BUFFER_SIZE).batch(BATCH_SIZE)\n",
    "test_dataset = tf.data.Dataset.from_tensor_slices(test_images).shuffle(BUFFER_SIZE).batch(BATCH_SIZE)"
   ]
  },
  {
   "cell_type": "markdown",
   "id": "humanitarian-verification",
   "metadata": {},
   "source": [
    "## Create the Generator Model"
   ]
  },
  {
   "cell_type": "code",
   "execution_count": 12,
   "id": "occupied-phenomenon",
   "metadata": {},
   "outputs": [],
   "source": [
    "\n",
    "class Autoencoder(tf.keras.models.Model):\n",
    "    def __init__(self):\n",
    "        super(Autoencoder, self).__init__()\n",
    "        self.latent_dim=128\n",
    "        self.encoder = self.make_encoder_model()\n",
    "        self.decoder = self.make_decoder_model()\n",
    "    \n",
    "    def call(self, x, training: bool = None):\n",
    "        encoded = self.encoder(x, training=training)\n",
    "        decoded = self.decoder(encoded, training=training)\n",
    "        return encoded, decoded\n",
    "    \n",
    "    def make_encoder_model(self):\n",
    "        inp = layers.Input(shape=(28*28,))\n",
    "        x = layers.Dense(14*14*124, use_bias=False)(inp)\n",
    "        x = layers.BatchNormalization()(x)\n",
    "        x = layers.LeakyReLU()(x)\n",
    "\n",
    "        x = layers.Reshape((14, 14, 124))(x)\n",
    "        assert tuple(x.get_shape()) == (None, 14, 14, 124)\n",
    "\n",
    "        x = layers.Conv2D(64, (5, 5), strides=(1, 1), padding='same', use_bias=False)(x)\n",
    "        assert tuple(x.get_shape()) == (None, 14, 14, 64)\n",
    "        x = layers.BatchNormalization()(x)\n",
    "        x = layers.LeakyReLU()(x)\n",
    "\n",
    "        y = layers.Conv2D(64, (5, 5), strides=(1, 1), padding='same', use_bias=False)(x)\n",
    "        assert tuple(y.get_shape()) == (None, 14, 14, 64)\n",
    "        y = layers.BatchNormalization()(y)\n",
    "        y = layers.LeakyReLU()(y)\n",
    "\n",
    "        y = layers.Add()([x, y])\n",
    "\n",
    "        y = layers.MaxPool2D((2, 2))(y)\n",
    "\n",
    "        y = layers.Conv2D(32, (5, 5), strides=(2, 2), padding='same', use_bias=False)(y)\n",
    "        assert tuple(y.get_shape()) == (None, 4, 4, 32)\n",
    "        y = layers.BatchNormalization()(y)\n",
    "        y = layers.LeakyReLU()(y)\n",
    "\n",
    "        z = layers.Conv2D(32, (5, 5), strides=(1, 1), padding='same', use_bias=False)(y)\n",
    "        assert tuple(z.get_shape()) == (None, 4, 4, 32)\n",
    "        z = layers.BatchNormalization()(z)\n",
    "        z = layers.LeakyReLU()(z)\n",
    "\n",
    "        z = layers.Add()([y, z])\n",
    "\n",
    "        z = layers.Conv2D(8, (5, 5), strides=(1, 1), padding='same', use_bias=False)(z)\n",
    "        z = layers.BatchNormalization()(z)\n",
    "        z = layers.LeakyReLU()(z)\n",
    "\n",
    "        z = layers.Dropout(0.3)(z)\n",
    "        z = layers.Flatten()(z)\n",
    "        assert tuple(z.get_shape()) == (None, 128)\n",
    "\n",
    "        z = layers.Dense(4*4*8, use_bias=False)(z)\n",
    "\n",
    "        return tf.keras.models.Model(inputs=inp, outputs=z)\n",
    "\n",
    "    def make_decoder_model(self):\n",
    "        inp = layers.Input(shape=(4*4*8))\n",
    "\n",
    "        x = layers.Reshape((4, 4, 8))(inp)\n",
    "        x = layers.Conv2DTranspose(4, (5, 5), strides=(2, 2), padding='same', use_bias=False)(x)\n",
    "        assert tuple(x.get_shape()) == (None, 8, 8, 4)\n",
    "        x = layers.BatchNormalization()(x)\n",
    "        x = layers.LeakyReLU()(x)\n",
    "\n",
    "        x = layers.Conv2DTranspose(2, (5, 5), strides=(2, 2), padding='same', use_bias=False)(x)\n",
    "        assert tuple(x.get_shape()) == (None, 16, 16, 2)\n",
    "        x = layers.BatchNormalization()(x)\n",
    "        x = layers.LeakyReLU()(x)\n",
    "\n",
    "        x = layers.Conv2DTranspose(1, (5, 5), strides=(2, 2), padding='same', use_bias=False)(x)\n",
    "        assert tuple(x.get_shape()) == (None, 32, 32, 1)\n",
    "        x = layers.BatchNormalization()(x)\n",
    "        x = layers.LeakyReLU()(x)\n",
    "\n",
    "        x = layers.Flatten()(x)\n",
    "\n",
    "        x = layers.Dense(28*28, use_bias=False)(x)\n",
    "        assert tuple(x.get_shape()) == (None, 784)\n",
    "        x = layers.Reshape((28, 28, 1))(x)\n",
    "\n",
    "        return tf.keras.models.Model(inputs=inp, outputs=x)"
   ]
  },
  {
   "cell_type": "code",
   "execution_count": 13,
   "id": "vulnerable-dimension",
   "metadata": {},
   "outputs": [],
   "source": [
    "autoencoder = Autoencoder()"
   ]
  },
  {
   "cell_type": "code",
   "execution_count": 14,
   "id": "based-diesel",
   "metadata": {},
   "outputs": [],
   "source": [
    "# generator.summary()"
   ]
  },
  {
   "cell_type": "code",
   "execution_count": 15,
   "id": "deluxe-pottery",
   "metadata": {},
   "outputs": [],
   "source": [
    "# tf.keras.utils.plot_model(generator, to_file=\"generator_architecture.png\")"
   ]
  },
  {
   "cell_type": "code",
   "execution_count": 16,
   "id": "saving-grill",
   "metadata": {},
   "outputs": [
    {
     "data": {
      "text/plain": [
       "<matplotlib.image.AxesImage at 0x7f0926932040>"
      ]
     },
     "execution_count": 16,
     "metadata": {},
     "output_type": "execute_result"
    },
    {
     "data": {
      "image/png": "[encoded data removed]",
      "text/plain": [
       "<Figure size 432x288 with 1 Axes>"
      ]
     },
     "metadata": {
      "needs_background": "light"
     },
     "output_type": "display_data"
    }
   ],
   "source": [
    "noise = tf.random.normal([1, 28*28])\n",
    "\n",
    "pt.imshow(noise.numpy().reshape(28, 28), cmap='gray')"
   ]
  },
  {
   "cell_type": "code",
   "execution_count": 17,
   "id": "chinese-gazette",
   "metadata": {},
   "outputs": [
    {
     "data": {
      "text/plain": [
       "<matplotlib.image.AxesImage at 0x7f09dce56670>"
      ]
     },
     "execution_count": 17,
     "metadata": {},
     "output_type": "execute_result"
    },
    {
     "data": {
      "image/png": "[encoded data removed]",
      "text/plain": [
       "<Figure size 432x288 with 1 Axes>"
      ]
     },
     "metadata": {
      "needs_background": "light"
     },
     "output_type": "display_data"
    }
   ],
   "source": [
    "encoded_noise, decoded_noise = autoencoder(noise, training=False)\n",
    "\n",
    "pt.imshow(encoded_noise.numpy().reshape(8, 16), cmap='gray')"
   ]
  },
  {
   "cell_type": "code",
   "execution_count": 18,
   "id": "lesser-metro",
   "metadata": {},
   "outputs": [
    {
     "data": {
      "text/plain": [
       "<matplotlib.image.AxesImage at 0x7f09dce335e0>"
      ]
     },
     "execution_count": 18,
     "metadata": {},
     "output_type": "execute_result"
    },
    {
     "data": {
      "image/png": "[encoded data removed]",
      "text/plain": [
       "<Figure size 432x288 with 1 Axes>"
      ]
     },
     "metadata": {
      "needs_background": "light"
     },
     "output_type": "display_data"
    }
   ],
   "source": [
    "pt.imshow(decoded_noise.numpy()[0, :, :, 0], cmap='gray')"
   ]
  },
  {
   "cell_type": "code",
   "execution_count": 19,
   "id": "flexible-villa",
   "metadata": {},
   "outputs": [],
   "source": [
    "def make_discriminator_model():\n",
    "    model = tf.keras.models.Sequential()\n",
    "    model.add(layers.Conv2D(10, (5, 5), input_shape=(28, 28, 1)))\n",
    "    model.add(layers.BatchNormalization())\n",
    "    model.add(layers.LeakyReLU())\n",
    "    model.add(layers.MaxPooling2D((2, 2)))\n",
    "\n",
    "    model.add(layers.Conv2D(10, (5, 5), padding='same')) # zero padding\n",
    "    model.add(layers.BatchNormalization())\n",
    "    model.add(layers.LeakyReLU())\n",
    "    model.add(layers.MaxPooling2D((2, 2)))\n",
    "\n",
    "    model.add(layers.Conv2D(10, (5, 5), padding='same')) # zero padding\n",
    "    model.add(layers.BatchNormalization())\n",
    "    model.add(layers.LeakyReLU())\n",
    "\n",
    "    model.add(layers.Flatten())\n",
    "\n",
    "    model.add(layers.Dense(30))\n",
    "    model.add(layers.LeakyReLU())\n",
    "\n",
    "    model.add(layers.Dropout(0.25))\n",
    "\n",
    "    model.add(layers.Dense(1))\n",
    "    \n",
    "    return model"
   ]
  },
  {
   "cell_type": "code",
   "execution_count": 20,
   "id": "unlike-florida",
   "metadata": {},
   "outputs": [
    {
     "name": "stdout",
     "output_type": "stream",
     "text": [
      "tf.Tensor([[-0.00299402]], shape=(1, 1), dtype=float32)\n"
     ]
    }
   ],
   "source": [
    "discriminator = make_discriminator_model()\n",
    "decision = discriminator(decoded_noise)\n",
    "print(decision)"
   ]
  },
  {
   "cell_type": "code",
   "execution_count": 21,
   "id": "black-estimate",
   "metadata": {},
   "outputs": [],
   "source": [
    "cross_entropy = tf.keras.losses.BinaryCrossentropy(from_logits=True)"
   ]
  },
  {
   "cell_type": "code",
   "execution_count": 22,
   "id": "political-style",
   "metadata": {},
   "outputs": [],
   "source": [
    "mse = tf.keras.losses.MeanSquaredError()"
   ]
  },
  {
   "cell_type": "code",
   "execution_count": 23,
   "id": "solid-acting",
   "metadata": {},
   "outputs": [],
   "source": [
    "def autoencoder_loss(image, decoded_image, encoded_image, encoded_decoded_image):\n",
    "    decoder_loss =  mse(image, decoded_image)\n",
    "    encoder_loss = cross_entropy(tf.ones_like(encoded_image), encoded_decoded_image)\n",
    "    return decoder_loss + encoder_loss"
   ]
  },
  {
   "cell_type": "code",
   "execution_count": 24,
   "id": "finished-mobility",
   "metadata": {},
   "outputs": [],
   "source": [
    "def decoder_loss(image, decoded_image):\n",
    "    return cross_entropy(tf.ones_like(image), decoded_image)"
   ]
  },
  {
   "cell_type": "code",
   "execution_count": 25,
   "id": "becoming-field",
   "metadata": {},
   "outputs": [],
   "source": [
    "def discriminator_loss(real_output, fake_output):\n",
    "    real_loss = cross_entropy(tf.ones_like(real_output), real_output)\n",
    "    fake_loss = cross_entropy(tf.zeros_like(fake_output), fake_output)\n",
    "    total_loss = real_loss + fake_loss\n",
    "    return total_loss"
   ]
  },
  {
   "cell_type": "code",
   "execution_count": 26,
   "id": "interested-flavor",
   "metadata": {},
   "outputs": [],
   "source": [
    "def encoder_loss(image, decoded_image):\n",
    "    return cross_entropy(tf.ones_like(image), decoded_image)"
   ]
  },
  {
   "cell_type": "code",
   "execution_count": 27,
   "id": "second-cover",
   "metadata": {},
   "outputs": [],
   "source": [
    "encoder_optimizer = tf.keras.optimizers.RMSprop(lr=1e-4)\n",
    "decoder_optimizer = tf.keras.optimizers.RMSprop(lr=1e-4)\n",
    "autoencoder_optimizer = tf.keras.optimizers.RMSprop(lr=1e-4)\n",
    "discriminator_optimizer = tf.keras.optimizers.RMSprop(lr=1e-4)"
   ]
  },
  {
   "cell_type": "code",
   "execution_count": 28,
   "id": "south-negative",
   "metadata": {},
   "outputs": [],
   "source": [
    "checkpoint_dir = './autoencoderGAN_training_checkpoints'\n",
    "checkpoint_prefix = os.path.join(checkpoint_dir, 'ckpt')\n",
    "checkpoint = tf.train.Checkpoint(autoencoder_optimizer=autoencoder_optimizer,\n",
    "                                 discriminator_optimizer=discriminator_optimizer,\n",
    "                                 autoencoder=autoencoder,\n",
    "                                 discriminator=discriminator)"
   ]
  },
  {
   "cell_type": "code",
   "execution_count": 29,
   "id": "amazing-acrobat",
   "metadata": {},
   "outputs": [],
   "source": [
    "EPOCHS = 50\n",
    "noise_dim = 28*28\n",
    "num_examples_to_generate=9\n",
    "\n",
    "seed = tf.random.normal([num_examples_to_generate, noise_dim])"
   ]
  },
  {
   "cell_type": "code",
   "execution_count": 30,
   "id": "organizational-norman",
   "metadata": {},
   "outputs": [],
   "source": [
    "@tf.function\n",
    "def train_step(batch_length, images):\n",
    "    noise = tf.random.normal([batch_length, noise_dim])\n",
    "    \n",
    "    with tf.GradientTape() as autoencoder_tape, tf.GradientTape() as disc_tape:\n",
    "        \n",
    "        _, decoded_images = autoencoder(noise, training=True)\n",
    "        encoded_decoded_images, _ = autoencoder(tf.reshape(decoded_images, noise.get_shape()), training=True)\n",
    "        encoded_images, _ = autoencoder(tf.reshape(images, noise.get_shape()), training=True)\n",
    "        \n",
    "        real_output = discriminator(images, training=True)\n",
    "        fake_output = discriminator(decoded_images, training=True)\n",
    "        \n",
    "        autoenc_loss = autoencoder_loss(images, decoded_images, encoded_images, encoded_decoded_images)\n",
    "        disc_loss = discriminator_loss(real_output, fake_output)\n",
    "\n",
    "    gradients_of_autoencoder = autoencoder_tape.gradient(autoenc_loss, autoencoder.trainable_variables)\n",
    "    gradients_of_discriminator = disc_tape.gradient(disc_loss, discriminator.trainable_variables)\n",
    "    \n",
    "    autoencoder_optimizer.apply_gradients(zip(gradients_of_autoencoder, autoencoder.trainable_variables))\n",
    "    discriminator_optimizer.apply_gradients(zip(gradients_of_discriminator, discriminator.trainable_variables))\n",
    "    "
   ]
  },
  {
   "cell_type": "code",
   "execution_count": 31,
   "id": "sporting-cause",
   "metadata": {},
   "outputs": [],
   "source": [
    "def generate_and_save_images(autoencoder, epoch, test_input):\n",
    "    # Notice `training` is set to False.\n",
    "    # This is so all layers run in inference mode (batchnorm).\n",
    "    _, predictions = autoencoder(test_input, training=False)\n",
    "\n",
    "    fig = pt.figure(figsize=(3, 3))\n",
    "\n",
    "    for i in range(predictions.shape[0]):\n",
    "        pt.subplot(3, 3, i+1)\n",
    "        pt.imshow(predictions[i, :, :, 0] * 127.5 + 127.5, cmap='gray')\n",
    "        pt.axis('off')\n",
    "\n",
    "    pt.savefig('autoencoder_image_at_epoch_{:04d}.png'.format(epoch))\n",
    "    pt.show()"
   ]
  },
  {
   "cell_type": "code",
   "execution_count": 32,
   "id": "detected-colony",
   "metadata": {},
   "outputs": [],
   "source": [
    "def train(dataset, epochs):\n",
    "    for epoch in range(epochs):\n",
    "        start = time.time()\n",
    "        \n",
    "        for image_batch in dataset:\n",
    "            train_step(len(image_batch), image_batch)\n",
    "        \n",
    "        # Produce images for the GIF every epoch\n",
    "        display.clear_output(wait=True)\n",
    "        generate_and_save_images(autoencoder,\n",
    "                                    epoch+1,\n",
    "                                    seed)\n",
    "        \n",
    "        # save the model every 15 epochs\n",
    "        if (epoch+1) % 15 == 0:\n",
    "            checkpoint.save(file_prefix=checkpoint_prefix)\n",
    "            \n",
    "        print(f'Time for epoch {epoch} is {time.time() - start}')\n",
    "        \n",
    "    # Generate an image after the final epoch\n",
    "    display.clear_output(wait=True)\n",
    "    generate_and_save_images(autoencoder, \n",
    "                                epochs,\n",
    "                                seed)"
   ]
  },
  {
   "cell_type": "code",
   "execution_count": null,
   "id": "agreed-korean",
   "metadata": {},
   "outputs": [
    {
     "data": {
      "image/png": "[encoded data removed]",
      "text/plain": [
       "<Figure size 216x216 with 9 Axes>"
      ]
     },
     "metadata": {
      "needs_background": "light"
     },
     "output_type": "display_data"
    },
    {
     "name": "stdout",
     "output_type": "stream",
     "text": [
      "Time for epoch 10 is 17.217484712600708\n"
     ]
    }
   ],
   "source": [
    "train(train_dataset, EPOCHS)"
   ]
  },
  {
   "cell_type": "code",
   "execution_count": null,
   "id": "quick-magnitude",
   "metadata": {},
   "outputs": [],
   "source": [
    "checkpoint.restore(tf.train.latest_checkpoint(checkpoint_dir))"
   ]
  },
  {
   "cell_type": "code",
   "execution_count": null,
   "id": "spread-contributor",
   "metadata": {},
   "outputs": [],
   "source": [
    "# Display a single image using epoch number\n",
    "def display_image(epoch_no):\n",
    "    return PIL.Image.open('autoencoder_image_at_epoch_{:04d}.png'.format(epoch_no))"
   ]
  },
  {
   "cell_type": "code",
   "execution_count": null,
   "id": "distributed-provider",
   "metadata": {},
   "outputs": [],
   "source": [
    "display_image(EPOCHS)"
   ]
  },
  {
   "cell_type": "code",
   "execution_count": null,
   "id": "smoking-recording",
   "metadata": {},
   "outputs": [],
   "source": [
    "anim_file = 'adcgan.gif'\n",
    "\n",
    "with imageio.get_writer(anim_file, mode='I') as writer:\n",
    "    filenames = glob.glob('autoencoder*.png')\n",
    "    filenames = sorted(filenames)\n",
    "    for filename in filenames:\n",
    "        image = imageio.imread(filename)\n",
    "        writer.append_data(image)\n",
    "    image = imageio.imread(filename)\n",
    "    writer.append_data(image)"
   ]
  },
  {
   "cell_type": "code",
   "execution_count": null,
   "id": "gothic-compatibility",
   "metadata": {},
   "outputs": [],
   "source": [
    "noise = tf.random.normal([1, 100])\n",
    "image = generator(noise, training=False)\n",
    "pt.imshow(image[0, :, :, 0] * 127.5 + 127.5, cmap='gray')"
   ]
  }
 ],
 "metadata": {
  "kernelspec": {
   "display_name": "cs583",
   "language": "python",
   "name": "cs583"
  },
  "language_info": {
   "codemirror_mode": {
    "name": "ipython",
    "version": 3
   },
   "file_extension": ".py",
   "mimetype": "text/x-python",
   "name": "python",
   "nbconvert_exporter": "python",
   "pygments_lexer": "ipython3",
   "version": "3.8.5"
  }
 },
 "nbformat": 4,
 "nbformat_minor": 5
}
